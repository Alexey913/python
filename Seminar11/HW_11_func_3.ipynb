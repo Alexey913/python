{
 "cells": [
  {
   "cell_type": "code",
   "execution_count": 29,
   "metadata": {
    "datalore": {
     "hide_input_from_viewers": false,
     "hide_output_from_viewers": false,
     "node_id": "eNmvNAjsuYYJc0l78Bl9Rq",
     "report_properties": {},
     "type": "CODE"
    }
   },
   "outputs": [],
   "source": [
    "# f(x) = (x ** 2 + 3) / (3 * (x + 1))\n",
    "# 1. Определить корни\n",
    "# 2. Найти интервалы, на которых функция возрастает\n",
    "# 3. Найти интервалы, на которых функция убывает\n",
    "# 4. Построить график\n",
    "# 5. Вычислить вершину\n",
    "# 6. Определить промежутки, на котором f > 0\n",
    "# 7. Определить промежутки, на котором f < 0"
   ]
  },
  {
   "cell_type": "code",
   "execution_count": 30,
   "metadata": {
    "datalore": {
     "hide_input_from_viewers": false,
     "hide_output_from_viewers": false,
     "node_id": "Z6uY5u5LKRCKbBpFosSHir",
     "report_properties": {},
     "type": "CODE"
    }
   },
   "outputs": [
    {
     "data": {
      "text/latex": [
       "$\\displaystyle \\frac{x^{2} + 3}{3 x + 3}$"
      ],
      "text/plain": [
       "(x**2 + 3)/(3*x + 3)"
      ]
     },
     "execution_count": 30,
     "metadata": {},
     "output_type": "execute_result"
    }
   ],
   "source": [
    "# 1. Представление функции\n",
    "from sympy import *\n",
    "from sympy.plotting import plot\n",
    "\n",
    "x = Symbol (\"x\")\n",
    "f = (x ** 2 + 3) / (3 * (x + 1))\n",
    "f"
   ]
  },
  {
   "cell_type": "code",
   "execution_count": 39,
   "metadata": {
    "datalore": {
     "hide_input_from_viewers": false,
     "hide_output_from_viewers": false,
     "node_id": "OJXf7VPbTu2BNvJj3kEme6",
     "report_properties": {},
     "type": "CODE"
    }
   },
   "outputs": [
    {
     "name": "stdout",
     "output_type": "stream",
     "text": [
      "Нули функции равны:\n"
     ]
    },
    {
     "data": {
      "text/latex": [
       "$\\displaystyle \\emptyset$"
      ],
      "text/plain": [
       "EmptySet"
      ]
     },
     "execution_count": 39,
     "metadata": {},
     "output_type": "execute_result"
    }
   ],
   "source": [
    "# 2. Находим нули функции\n",
    "print('Нули функции равны:')\n",
    "roots = solve(f, x) #решения в формате Python\n",
    "roots = solveset (f, x, S.Reals) #решения в символьном формате\n",
    "roots"
   ]
  },
  {
   "cell_type": "code",
   "execution_count": 32,
   "metadata": {
    "datalore": {
     "hide_input_from_viewers": false,
     "hide_output_from_viewers": false,
     "node_id": "PKL3a265hkVZK6iiHeqUTu",
     "report_properties": {},
     "type": "CODE"
    }
   },
   "outputs": [
    {
     "data": {
      "text/plain": [
       "[-oo, -3, 1, oo]"
      ]
     },
     "execution_count": 32,
     "metadata": {},
     "output_type": "execute_result"
    }
   ],
   "source": [
    "# Определяем интервалы, где функция возрастает и убывает ('Экстремумы')\n",
    "extremum_list = [-oo, oo]\n",
    "extremum_list[1:1] = solve(diff(f), x)\n",
    "extremum_list"
   ]
  },
  {
   "cell_type": "code",
   "execution_count": 40,
   "metadata": {},
   "outputs": [
    {
     "name": "stdout",
     "output_type": "stream",
     "text": [
      "Убывает на интервалах:\n",
      "[-3.0, 1.0]\n",
      "Возрастает на интервалах:\n",
      "[-oo, -3.0]\n",
      "[1.0, oo]\n"
     ]
    }
   ],
   "source": [
    "# 3. Определяем интревалы возрастания и убывания (по методу семинара)\n",
    "\n",
    "f_diff = [-oo, oo]\n",
    "f_diff[1:1] = solve(diff(f), x)\n",
    "\n",
    "incr_list = []\n",
    "decr_list = []\n",
    "\n",
    "for i in range(1, len(f_diff)):\n",
    "    val = is_increasing(f, Interval.open(f_diff[i - 1], f_diff[i]))\n",
    "    if val:\n",
    "        incr_list.append(f\"[{(f_diff[i - 1]).evalf(2)}, {(f_diff[i]).evalf(2)}]\")\n",
    "    else:\n",
    "        decr_list.append(f\"[{(f_diff[i - 1]).evalf(2)}, {(f_diff[i]).evalf(2)}]\")\n",
    "\n",
    "print(f\"Убывает на интервалах:\", *decr_list, sep=\"\\n\")\n",
    "print(f\"Возрастает на интервалах:\", *incr_list, sep=\"\\n\")"
   ]
  },
  {
   "cell_type": "code",
   "execution_count": 33,
   "metadata": {
    "datalore": {
     "hide_input_from_viewers": false,
     "hide_output_from_viewers": false,
     "node_id": "kT6bK5agu4xPU6JpbFU4Zt",
     "report_properties": {},
     "type": "CODE"
    }
   },
   "outputs": [
    {
     "name": "stdout",
     "output_type": "stream",
     "text": [
      "Функция возрастает на следующих интервалах:\n",
      "(-oo,-3) (1,oo) \n",
      "\n",
      "Функция убываает на следующих интервалах:\n",
      "(-3,1) "
     ]
    }
   ],
   "source": [
    "# 3. Определяем интревалы возрастания и убывания (добавил переменные для вычиления интервалов знакопостоянства)\n",
    "increas_intervals =[]\n",
    "decreas_intervals = []\n",
    "check_inc=0\n",
    "check_dec=0\n",
    "for i in range (1,len(extremum_list)):\n",
    "    temp = is_increasing(f, Interval.open(extremum_list[i-1], extremum_list[i]))\n",
    "    if temp:\n",
    "        increas_intervals.append(f'{extremum_list[i-1]},{extremum_list[i]}')\n",
    "    else:\n",
    "        decreas_intervals.append(f'{extremum_list[i-1]},{extremum_list[i]}')\n",
    "if len(increas_intervals)>0:\n",
    "    print('Функция возрастает на следующих интервалах:')\n",
    "    for i in range (len(increas_intervals)):\n",
    "        print (f'({increas_intervals[i]})', end = \" \")\n",
    "        check_inc+=1\n",
    "    print(f'\\n')\n",
    "else:\n",
    "    print('Интервалы возрастания отсутствуют')\n",
    "if len(decreas_intervals)>0:\n",
    "    print('Функция убываает на следующих интервалах:')\n",
    "    for i in range (len(decreas_intervals)):\n",
    "        print (f'({decreas_intervals[i]})', end = \" \")\n",
    "        check_dec+=1\n",
    "else:\n",
    "    print('Интервалы убывания отсутствуют')"
   ]
  },
  {
   "cell_type": "code",
   "execution_count": 34,
   "metadata": {
    "datalore": {
     "hide_input_from_viewers": false,
     "hide_output_from_viewers": false,
     "node_id": "35lzZhHF3tStGzxMf2GQh2",
     "report_properties": {},
     "type": "CODE"
    }
   },
   "outputs": [
    {
     "data": {
      "text/latex": [
       "$\\displaystyle \\left\\{-1\\right\\}$"
      ],
      "text/plain": [
       "{-1}"
      ]
     },
     "execution_count": 34,
     "metadata": {},
     "output_type": "execute_result"
    }
   ],
   "source": [
    "# Находим область определения функции (вертикальная асимптота)\n",
    "f_0 = 3 * (x + 1)\n",
    "not_sol = solveset(f_0, x)\n",
    "not_sol"
   ]
  },
  {
   "cell_type": "code",
   "execution_count": 35,
   "metadata": {
    "datalore": {
     "hide_input_from_viewers": false,
     "hide_output_from_viewers": false,
     "node_id": "2q3HjGk78AtaijWZJFfcmo",
     "report_properties": {},
     "type": "CODE"
    }
   },
   "outputs": [
    {
     "data": {
      "image/png": "[encoded data removed]",
      "text/plain": [
       "<Figure size 640x480 with 1 Axes>"
      ]
     },
     "metadata": {},
     "output_type": "display_data"
    },
    {
     "data": {
      "text/plain": [
       "<sympy.plotting.plot.Plot at 0x23d55929b50>"
      ]
     },
     "execution_count": 35,
     "metadata": {},
     "output_type": "execute_result"
    }
   ],
   "source": [
    "# 4. Строим график\n",
    "plot((f, (x,-10, -1.1)), (f, (x, -0.9, 10)), legend = True)"
   ]
  },
  {
   "cell_type": "code",
   "execution_count": 44,
   "metadata": {
    "datalore": {
     "hide_input_from_viewers": false,
     "hide_output_from_viewers": false,
     "node_id": "Pp6NA8bJcbv9G5pDayjqoO",
     "report_properties": {},
     "type": "CODE"
    }
   },
   "outputs": [
    {
     "name": "stdout",
     "output_type": "stream",
     "text": [
      "Минимум 1 = -2.0\n",
      "Максимум 1 = 0.67\n"
     ]
    }
   ],
   "source": [
    "# 5. Ищем экстремумы по методу семинара (сходится с Матвеем)\n",
    "extr = solve(diff(f), x)\n",
    "count_min = 1\n",
    "count_max = 1\n",
    "for i in extr:\n",
    "    temp = f.subs(x, i).evalf(2)\n",
    "    if temp < 0:\n",
    "        print (f\"Минимум {count_min} =\", temp)\n",
    "        count_min+=1\n",
    "    elif temp >0:\n",
    "        print (f\"Максимум {count_max} =\", temp)\n",
    "        count_max+=1   "
   ]
  },
  {
   "cell_type": "code",
   "execution_count": 45,
   "metadata": {
    "datalore": {
     "hide_input_from_viewers": true,
     "hide_output_from_viewers": true,
     "node_id": "qHuxNIMqFl4NyO5DkW33pG",
     "type": "CODE"
    }
   },
   "outputs": [
    {
     "name": "stdout",
     "output_type": "stream",
     "text": [
      "Минимум 1: x = -3.0, y = -2.0\n",
      "Максимум 1: x = 1.0, y = 0.67\n"
     ]
    }
   ],
   "source": [
    "# 5. Ищем экстремумы (немного изменил код семинара)\n",
    "extr = solve(diff(f), x)\n",
    "count_min = 1\n",
    "count_max = 1\n",
    "if len(extr) == 0 or (check_inc==0 or check_dec==0):\n",
    "    print (f\"Максимумы и минимумы отсутствуют!\")\n",
    "elif len(extr) == 1:\n",
    "    temp_1 = f.subs(x, extr[0]+4)\n",
    "    temp_2 = f.subs(x, extr[0])\n",
    "    if temp_2 < temp_1:\n",
    "        print (f\"Минимум {count_min}: x = {extr[0].evalf(2)}, y = {temp_2.evalf(2)}\")     \n",
    "    else:\n",
    "        print (f\"Максимум {count_min}: x = {extr[0].evalf(2)}, y = {temp_2.evalf(2)}\")\n",
    "else:\n",
    "    temp_1 = f.subs(x, extr[1])\n",
    "    for i in extr:\n",
    "        temp_2 = f.subs(x, i)\n",
    "        if temp_2 < temp_1:\n",
    "            print (f\"Минимум {count_min}: x = {i.evalf(2)}, y = {temp_2.evalf(2)}\")\n",
    "            count_min+=1\n",
    "            temp_1 = temp_2\n",
    "        elif temp_2 > temp_1:\n",
    "            print (f\"Максимум {count_max}: x = {i.evalf(2)}, y = {temp_2.evalf(2)}\")\n",
    "            count_max+=1\n",
    "            temp_1 = temp_2"
   ]
  },
  {
   "cell_type": "code",
   "execution_count": 46,
   "metadata": {
    "datalore": {
     "hide_input_from_viewers": false,
     "hide_output_from_viewers": false,
     "node_id": "teNqUyJlHXxejx7TUIH86K",
     "report_properties": {},
     "type": "CODE"
    }
   },
   "outputs": [
    {
     "ename": "ValueError",
     "evalue": "Non-real intervals are not supported",
     "output_type": "error",
     "traceback": [
      "\u001b[1;31m---------------------------------------------------------------------------\u001b[0m",
      "\u001b[1;31mValueError\u001b[0m                                Traceback (most recent call last)",
      "\u001b[1;32m~\\AppData\\Local\\Temp\\ipykernel_13016\\91574342.py\u001b[0m in \u001b[0;36m<module>\u001b[1;34m\u001b[0m\n\u001b[0;32m      6\u001b[0m \u001b[1;32mfor\u001b[0m \u001b[0mi\u001b[0m \u001b[1;32min\u001b[0m \u001b[0mrange\u001b[0m \u001b[1;33m(\u001b[0m\u001b[1;36m1\u001b[0m\u001b[1;33m,\u001b[0m\u001b[0mlen\u001b[0m\u001b[1;33m(\u001b[0m\u001b[0minterval_list\u001b[0m\u001b[1;33m)\u001b[0m\u001b[1;33m)\u001b[0m\u001b[1;33m:\u001b[0m\u001b[1;33m\u001b[0m\u001b[1;33m\u001b[0m\u001b[0m\n\u001b[0;32m      7\u001b[0m     \u001b[0mtemp_1\u001b[0m\u001b[1;33m,\u001b[0m \u001b[0mtemp_2\u001b[0m \u001b[1;33m=\u001b[0m \u001b[0minterval_list\u001b[0m\u001b[1;33m[\u001b[0m\u001b[0mi\u001b[0m\u001b[1;33m-\u001b[0m\u001b[1;36m1\u001b[0m\u001b[1;33m]\u001b[0m\u001b[1;33m,\u001b[0m \u001b[0minterval_list\u001b[0m\u001b[1;33m[\u001b[0m\u001b[0mi\u001b[0m\u001b[1;33m]\u001b[0m\u001b[1;33m\u001b[0m\u001b[1;33m\u001b[0m\u001b[0m\n\u001b[1;32m----> 8\u001b[1;33m     \u001b[0mtemp\u001b[0m \u001b[1;33m=\u001b[0m \u001b[0mis_increasing\u001b[0m\u001b[1;33m(\u001b[0m\u001b[0mf\u001b[0m\u001b[1;33m,\u001b[0m \u001b[0mInterval\u001b[0m\u001b[1;33m.\u001b[0m\u001b[0mopen\u001b[0m\u001b[1;33m(\u001b[0m\u001b[0mtemp_1\u001b[0m\u001b[1;33m,\u001b[0m \u001b[0mtemp_2\u001b[0m\u001b[1;33m)\u001b[0m\u001b[1;33m)\u001b[0m\u001b[1;33m\u001b[0m\u001b[1;33m\u001b[0m\u001b[0m\n\u001b[0m\u001b[0;32m      9\u001b[0m     \u001b[1;32mif\u001b[0m \u001b[0mtemp\u001b[0m\u001b[1;33m:\u001b[0m\u001b[1;33m\u001b[0m\u001b[1;33m\u001b[0m\u001b[0m\n\u001b[0;32m     10\u001b[0m         \u001b[0mincreas\u001b[0m\u001b[1;33m.\u001b[0m\u001b[0mappend\u001b[0m\u001b[1;33m(\u001b[0m\u001b[1;34mf'{temp_1},{temp_2}'\u001b[0m\u001b[1;33m)\u001b[0m\u001b[1;33m\u001b[0m\u001b[1;33m\u001b[0m\u001b[0m\n",
      "\u001b[1;32m~\\anaconda3\\lib\\site-packages\\sympy\\sets\\sets.py\u001b[0m in \u001b[0;36mopen\u001b[1;34m(cls, a, b)\u001b[0m\n\u001b[0;32m   1037\u001b[0m     \u001b[1;32mdef\u001b[0m \u001b[0mopen\u001b[0m\u001b[1;33m(\u001b[0m\u001b[0mcls\u001b[0m\u001b[1;33m,\u001b[0m \u001b[0ma\u001b[0m\u001b[1;33m,\u001b[0m \u001b[0mb\u001b[0m\u001b[1;33m)\u001b[0m\u001b[1;33m:\u001b[0m\u001b[1;33m\u001b[0m\u001b[1;33m\u001b[0m\u001b[0m\n\u001b[0;32m   1038\u001b[0m         \u001b[1;34m\"\"\"Return an interval including neither boundary.\"\"\"\u001b[0m\u001b[1;33m\u001b[0m\u001b[1;33m\u001b[0m\u001b[0m\n\u001b[1;32m-> 1039\u001b[1;33m         \u001b[1;32mreturn\u001b[0m \u001b[0mcls\u001b[0m\u001b[1;33m(\u001b[0m\u001b[0ma\u001b[0m\u001b[1;33m,\u001b[0m \u001b[0mb\u001b[0m\u001b[1;33m,\u001b[0m \u001b[1;32mTrue\u001b[0m\u001b[1;33m,\u001b[0m \u001b[1;32mTrue\u001b[0m\u001b[1;33m)\u001b[0m\u001b[1;33m\u001b[0m\u001b[1;33m\u001b[0m\u001b[0m\n\u001b[0m\u001b[0;32m   1040\u001b[0m \u001b[1;33m\u001b[0m\u001b[0m\n\u001b[0;32m   1041\u001b[0m     \u001b[1;33m@\u001b[0m\u001b[0mclassmethod\u001b[0m\u001b[1;33m\u001b[0m\u001b[1;33m\u001b[0m\u001b[0m\n",
      "\u001b[1;32m~\\anaconda3\\lib\\site-packages\\sympy\\sets\\sets.py\u001b[0m in \u001b[0;36m__new__\u001b[1;34m(cls, start, end, left_open, right_open)\u001b[0m\n\u001b[0;32m    941\u001b[0m         \u001b[1;31m# Only allow real intervals\u001b[0m\u001b[1;33m\u001b[0m\u001b[1;33m\u001b[0m\u001b[0m\n\u001b[0;32m    942\u001b[0m         \u001b[1;32mif\u001b[0m \u001b[0mfuzzy_not\u001b[0m\u001b[1;33m(\u001b[0m\u001b[0mfuzzy_and\u001b[0m\u001b[1;33m(\u001b[0m\u001b[0mi\u001b[0m\u001b[1;33m.\u001b[0m\u001b[0mis_extended_real\u001b[0m \u001b[1;32mfor\u001b[0m \u001b[0mi\u001b[0m \u001b[1;32min\u001b[0m \u001b[1;33m(\u001b[0m\u001b[0mstart\u001b[0m\u001b[1;33m,\u001b[0m \u001b[0mend\u001b[0m\u001b[1;33m,\u001b[0m \u001b[0mend\u001b[0m\u001b[1;33m-\u001b[0m\u001b[0mstart\u001b[0m\u001b[1;33m)\u001b[0m\u001b[1;33m)\u001b[0m\u001b[1;33m)\u001b[0m\u001b[1;33m:\u001b[0m\u001b[1;33m\u001b[0m\u001b[1;33m\u001b[0m\u001b[0m\n\u001b[1;32m--> 943\u001b[1;33m             \u001b[1;32mraise\u001b[0m \u001b[0mValueError\u001b[0m\u001b[1;33m(\u001b[0m\u001b[1;34m\"Non-real intervals are not supported\"\u001b[0m\u001b[1;33m)\u001b[0m\u001b[1;33m\u001b[0m\u001b[1;33m\u001b[0m\u001b[0m\n\u001b[0m\u001b[0;32m    944\u001b[0m \u001b[1;33m\u001b[0m\u001b[0m\n\u001b[0;32m    945\u001b[0m         \u001b[1;31m# evaluate if possible\u001b[0m\u001b[1;33m\u001b[0m\u001b[1;33m\u001b[0m\u001b[0m\n",
      "\u001b[1;31mValueError\u001b[0m: Non-real intervals are not supported"
     ]
    }
   ],
   "source": [
    "# Ищем интервал знакопостоянства функции, по методу семинара (некорректная работа)\n",
    "interval_list = [-oo, oo]\n",
    "interval_list[1:1] = solve(f, x)\n",
    "increas =[]\n",
    "decreas = []\n",
    "for i in range (1,len(interval_list)):\n",
    "    temp_1, temp_2 = interval_list[i-1], interval_list[i]\n",
    "    temp = is_increasing(f, Interval.open(temp_1, temp_2))\n",
    "    if temp:\n",
    "        increas.append(f'{temp_1},{temp_2}')\n",
    "    else:\n",
    "        decreas.append(f'{temp_1},{temp_2}')\n",
    "print('Функция больше 0 на интервалах:', *increas, sep ='\\n')\n",
    "print('Функция меньше 0 на интервалах:', *decreas, sep ='\\n')"
   ]
  },
  {
   "cell_type": "code",
   "execution_count": 47,
   "metadata": {
    "datalore": {
     "hide_input_from_viewers": true,
     "hide_output_from_viewers": true,
     "node_id": "EYYJRHBZgpFF6BmslXFpNP",
     "type": "CODE"
    }
   },
   "outputs": [
    {
     "name": "stdout",
     "output_type": "stream",
     "text": [
      "[-oo, -sqrt(3)*I, sqrt(3)*I, oo]\n",
      "Функция больше 0 на интервалах:\n",
      "[-sqrt(3)*I, sqrt(3)*I]\n",
      "Функция меньше 0 на интервалах:\n",
      "[-oo, -sqrt(3)*I]\n",
      "[sqrt(3)*I, oo]\n"
     ]
    }
   ],
   "source": [
    "# 6. Ищем интервал знакопостоянства функции, мой метод (здесь работает)\n",
    "root_f = [-oo, oo]\n",
    "root_f[1:1] = (solve(f, x))\n",
    "print (root_f)\n",
    "pos_list = []\n",
    "neg_list = []\n",
    "\n",
    "for i in range(1, len(root_f)):\n",
    "    if root_f[i-1] == -oo:\n",
    "        num_1 = root_f[i]-1\n",
    "        num_2 = root_f[i]\n",
    "    elif root_f[i] == oo:\n",
    "        num_1 = root_f[i-1]\n",
    "        num_2 = root_f[i-1]+1\n",
    "    else:\n",
    "        num_1 = root_f[i-1]\n",
    "        num_2 = root_f[i]\n",
    "    sred = (num_1+num_2)/2\n",
    "    ask_pos = f.subs(x,sred)\n",
    "    num_1 = root_f[i-1]\n",
    "    num_2 = root_f[i]\n",
    "    if ask(Q.positive(ask_pos)):\n",
    "        pos_list.append(f\"[{num_1}, {num_2}]\")\n",
    "    else:\n",
    "        neg_list.append(f\"[{num_1}, {num_2}]\")\n",
    "\n",
    "print('Функция больше 0 на интервалах:', *pos_list, sep ='\\n')\n",
    "print('Функция меньше 0 на интервалах:', *neg_list, sep ='\\n')"
   ]
  },
  {
   "cell_type": "code",
   "execution_count": 48,
   "metadata": {},
   "outputs": [
    {
     "name": "stdout",
     "output_type": "stream",
     "text": [
      "Функция меньше 0:"
     ]
    },
    {
     "data": {
      "text/latex": [
       "$\\displaystyle \\left(-\\infty, -1.0\\right)$"
      ],
      "text/plain": [
       "Interval.open(-oo, -1.0)"
      ]
     },
     "execution_count": 48,
     "metadata": {},
     "output_type": "execute_result"
    }
   ],
   "source": [
    "# 6. Ищем интервал знакопостоянства функции (правильный метод) y<0\n",
    "print('Функция меньше 0:', end=\"\")\n",
    "solveset(f<0,x,Reals).evalf(2)"
   ]
  },
  {
   "cell_type": "code",
   "execution_count": 49,
   "metadata": {},
   "outputs": [
    {
     "name": "stdout",
     "output_type": "stream",
     "text": [
      "Функция больше 0:"
     ]
    },
    {
     "data": {
      "text/latex": [
       "$\\displaystyle \\left(-1.0, \\infty\\right)$"
      ],
      "text/plain": [
       "Interval.open(-1.0, oo)"
      ]
     },
     "execution_count": 49,
     "metadata": {},
     "output_type": "execute_result"
    }
   ],
   "source": [
    "# 6. Ищем интервал знакопостоянства функции (правильный метод) y>0\n",
    "print('Функция больше 0:', end=\"\")\n",
    "solveset(f>0,x,Reals).evalf(2)"
   ]
  }
 ],
 "metadata": {
  "datalore": {
   "base_environment": "default",
   "computation_mode": "JUPYTER",
   "package_manager": "pip",
   "packages": [],
   "version": 1
  },
  "kernelspec": {
   "display_name": "Python 3 (ipykernel)",
   "language": "python",
   "name": "python3"
  },
  "language_info": {
   "codemirror_mode": {
    "name": "ipython",
    "version": 3
   },
   "file_extension": ".py",
   "mimetype": "text/x-python",
   "name": "python",
   "nbconvert_exporter": "python",
   "pygments_lexer": "ipython3",
   "version": "3.9.13"
  }
 },
 "nbformat": 4,
 "nbformat_minor": 4
}
