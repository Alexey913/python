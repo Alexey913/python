{
 "cells": [
  {
   "cell_type": "code",
   "execution_count": 1,
   "metadata": {
    "datalore": {
     "hide_input_from_viewers": false,
     "hide_output_from_viewers": false,
     "node_id": "JO7IVnY9dRlcCHObKxZrnm",
     "report_properties": {},
     "type": "CODE"
    }
   },
   "outputs": [],
   "source": [
    "# f(x) = -18 * x ** 3 + 5 * x ** 2 + 10 * x - 30\n",
    "# 1. Определить корни\n",
    "# 2. Найти интервалы, на которых функция возрастает\n",
    "# 3. Найти интервалы, на которых функция убывает\n",
    "# 4. Построить график\n",
    "# 5. Вычислить вершину\n",
    "# 6. Определить промежутки, на котором f > 0\n",
    "# 7. Определить промежутки, на котором f < 0"
   ]
  },
  {
   "cell_type": "code",
   "execution_count": 2,
   "metadata": {
    "datalore": {
     "hide_input_from_viewers": false,
     "hide_output_from_viewers": false,
     "node_id": "jUQoZuvaBb1H7InW1NzkUa",
     "report_properties": {},
     "type": "CODE"
    }
   },
   "outputs": [
    {
     "data": {
      "text/latex": [
       "$\\displaystyle - 18 x^{3} + 5 x^{2} + 10 x - 30$"
      ]
     },
     "metadata": {},
     "output_type": "display_data"
    }
   ],
   "source": [
    "# 1. Представление функции\n",
    "from sympy import *\n",
    "from sympy.plotting import plot\n",
    "\n",
    "x = Symbol (\"x\")\n",
    "f = -18 * x ** 3 + 5 * x ** 2 + 10 * x - 30\n",
    "# f = 2 * x ** 2 + 5 * x - 30\n",
    "f"
   ]
  },
  {
   "cell_type": "code",
   "execution_count": 10,
   "metadata": {
    "datalore": {
     "hide_input_from_viewers": false,
     "hide_output_from_viewers": false,
     "node_id": "biDcm354FcziCSOb3AZh2t",
     "report_properties": {},
     "type": "CODE"
    }
   },
   "outputs": [
    {
     "name": "stdout",
     "output_type": "stream",
     "text": [
      "Нули функции равны:\n"
     ]
    },
    {
     "data": {
      "text/latex": [
       "$\\displaystyle \\left\\{-1.2\\right\\}$"
      ],
      "text/plain": [
       "{-1.2}"
      ]
     },
     "execution_count": 10,
     "metadata": {},
     "output_type": "execute_result"
    }
   ],
   "source": [
    "# 2. Находим нули функции\n",
    "print('Нули функции равны:')\n",
    "roots = solve(f, x) #решения в формате Python\n",
    "roots = solveset (f,x, S.Reals).evalf(2) #решения в символьном формате\n",
    "roots"
   ]
  },
  {
   "cell_type": "code",
   "execution_count": 34,
   "metadata": {
    "datalore": {
     "hide_input_from_viewers": false,
     "hide_output_from_viewers": false,
     "node_id": "RJVceYZmSmKhr5S3k5KYy8",
     "report_properties": {},
     "type": "CODE"
    }
   },
   "outputs": [
    {
     "data": {
      "text/plain": [
       "[-oo, (5/54 - sqrt(565)/54, Reals), (5/54 + sqrt(565)/54, Reals), oo]"
      ]
     },
     "execution_count": 34,
     "metadata": {},
     "output_type": "execute_result"
    }
   ],
   "source": [
    "# Определяем интервалы, где функция возрастает и убывает ('Экстремумы')\n",
    "extremum_list = [-oo, oo]\n",
    "extremum_list[1:1] = solve(diff(f), x, S.Reals)\n",
    "extremum_list"
   ]
  },
  {
   "cell_type": "code",
   "execution_count": 38,
   "metadata": {
    "datalore": {
     "hide_input_from_viewers": true,
     "hide_output_from_viewers": true,
     "node_id": "D27rxmQjIkEyd7954Dffsw",
     "type": "CODE"
    }
   },
   "outputs": [
    {
     "name": "stdout",
     "output_type": "stream",
     "text": [
      "Убывает на интервалах:\n",
      "[-oo, -0.35]\n",
      "[0.53, oo]\n",
      "Возрастает на интервалах:\n",
      "[-0.35, 0.53]\n"
     ]
    }
   ],
   "source": [
    "# 3. Определяем интревалы возрастания и убывания (по методу семинара)\n",
    "\n",
    "f_diff = [-oo, oo]\n",
    "f_diff[1:1] = solve(diff(f), x)\n",
    "\n",
    "incr_list = []\n",
    "decr_list = []\n",
    "\n",
    "for i in range(1, len(f_diff)):\n",
    "    val = is_increasing(f, Interval.open(f_diff[i - 1], f_diff[i]))\n",
    "    if val:\n",
    "        incr_list.append(f\"[{(f_diff[i - 1]).evalf(2)}, {(f_diff[i]).evalf(2)}]\")\n",
    "    else:\n",
    "        decr_list.append(f\"[{(f_diff[i - 1]).evalf(2)}, {(f_diff[i]).evalf(2)}]\")\n",
    "\n",
    "print(f\"Убывает на интервалах:\", *decr_list, sep=\"\\n\")\n",
    "print(f\"Возрастает на интервалах:\", *incr_list, sep=\"\\n\")"
   ]
  },
  {
   "cell_type": "code",
   "execution_count": 39,
   "metadata": {
    "datalore": {
     "hide_input_from_viewers": false,
     "hide_output_from_viewers": false,
     "node_id": "O0H6dYXYXtgAm65Eli9VoC",
     "report_properties": {},
     "type": "CODE"
    }
   },
   "outputs": [
    {
     "name": "stdout",
     "output_type": "stream",
     "text": [
      "Функция возрастает на следующих интервалах:\n",
      "(-0.35,0.53) \n",
      "\n",
      "Функция убываает на следующих интервалах:\n",
      "(-oo,-0.35) (0.53,oo) "
     ]
    }
   ],
   "source": [
    "# 3. Определяем интревалы возрастания и убывания (немного изменил код, добавил переменные для вычисления интервалов знакопостоянства)\n",
    "extremum_list = [-oo, oo]\n",
    "extremum_list[1:1] = solve(diff(f), x)\n",
    "increas_intervals =[]\n",
    "decreas_intervals = []\n",
    "check_inc=0\n",
    "check_dec=0\n",
    "for i in range (1,len(extremum_list)):\n",
    "    temp = is_increasing(f, Interval.open(extremum_list[i-1], extremum_list[i]))\n",
    "    if temp:\n",
    "        increas_intervals.append(f'{(extremum_list[i-1]).evalf(2)},{(extremum_list[i]).evalf(2)}')\n",
    "    else:\n",
    "        decreas_intervals.append(f'{(extremum_list[i-1]).evalf(2)},{(extremum_list[i]).evalf(2)}')\n",
    "if len(increas_intervals)>0:\n",
    "    print('Функция возрастает на следующих интервалах:')\n",
    "    for i in range (len(increas_intervals)):\n",
    "        print (f'({increas_intervals[i]})', end = \" \")\n",
    "        check_inc+=1\n",
    "    print(f'\\n')\n",
    "else:\n",
    "    print('Интервалы возрастания отсутствуют')\n",
    "if len(decreas_intervals)>0:\n",
    "    print('Функция убываает на следующих интервалах:')\n",
    "    for i in range (len(decreas_intervals)):\n",
    "        print (f'({decreas_intervals[i]})', end = \" \")\n",
    "        check_dec+=1\n",
    "else:\n",
    "    print('Интервалы убывания отсутствуют')"
   ]
  },
  {
   "cell_type": "code",
   "execution_count": 10,
   "metadata": {
    "datalore": {
     "hide_input_from_viewers": false,
     "hide_output_from_viewers": false,
     "node_id": "pQtJae9WVxObyVWaVPLC4E",
     "report_properties": {},
     "type": "CODE"
    }
   },
   "outputs": [
    {
     "data": {
      "image/png": "[encoded data removed]"
     },
     "metadata": {
      "image/png": {}
     },
     "output_type": "display_data"
    },
    {
     "data": {
      "text/plain": [
       "<sympy.plotting.plot.Plot at 0x7fd9d39bd3d0>"
      ]
     },
     "metadata": {},
     "output_type": "display_data"
    }
   ],
   "source": [
    "# 4. Строим график\n",
    "plot(f, (x, -2, 2), legend = True)"
   ]
  },
  {
   "cell_type": "code",
   "execution_count": 41,
   "metadata": {},
   "outputs": [
    {
     "name": "stdout",
     "output_type": "stream",
     "text": [
      "Минимум 1 = -32.\n",
      "Минимум 2 = -26.\n"
     ]
    }
   ],
   "source": [
    "# 5. Ищем экстремумы по методу семинара (сходится с Матвеем)\n",
    "extr = solve(diff(f), x)\n",
    "count_min = 1\n",
    "count_max = 1\n",
    "for i in extr:\n",
    "    temp = f.subs(x, i).evalf(2)\n",
    "    if temp < 0:\n",
    "        print (f\"Минимум {count_min} =\", temp)\n",
    "        count_min+=1\n",
    "    elif temp >0:\n",
    "        print (f\"Максимум {count_max} =\", temp)\n",
    "        count_max+=1         "
   ]
  },
  {
   "cell_type": "code",
   "execution_count": 15,
   "metadata": {
    "datalore": {
     "hide_input_from_viewers": false,
     "hide_output_from_viewers": false,
     "node_id": "oqMGDIJGKxlIZ2pKgw5o1t",
     "report_properties": {},
     "type": "CODE"
    }
   },
   "outputs": [
    {
     "name": "stdout",
     "output_type": "stream",
     "text": [
      "Минимум 1: x = -0.35, y = -32\n",
      "Максимум 1: x = 0.53, y = -26\n"
     ]
    }
   ],
   "source": [
    "# 5. Ищем экстремумы (немного изменил код семинара)\n",
    "extr = solve(diff(f), x)\n",
    "count_min = 1\n",
    "count_max = 1\n",
    "if len(extr) == 0 or (check_inc==0 or check_dec==0):\n",
    "    print (f\"Максимумы и минимумы отсутствуют!\")\n",
    "elif len(extr) == 1:\n",
    "    temp_1 = f.subs(x, extr[0]+4)\n",
    "    temp_2 = f.subs(x, extr[0])\n",
    "    if temp_2 < temp_1:\n",
    "        print (f\"Минимум {count_min}: x = {extr[0].evalf(2)}, y = {temp_2.evalf(2)}\")     \n",
    "    else:\n",
    "        print (f\"Максимум {count_min}: x = {extr[0].evalf(2)}, y = {temp_2.evalf(2)}\")\n",
    "else:\n",
    "    temp_1 = f.subs(x, extr[1])\n",
    "    for i in extr:\n",
    "        temp_2 = f.subs(x, i)\n",
    "        if temp_2 < temp_1:\n",
    "            print (f\"Минимум {count_min}: x = {i.evalf(2)}, y = {temp_2.evalf(2)}\")\n",
    "            count_min+=1\n",
    "            temp_1 = temp_2\n",
    "        elif temp_2 > temp_1:\n",
    "            print (f\"Максимум {count_max}: x = {i.evalf(2)}, y = {temp_2.evalf(2)}\")\n",
    "            count_max+=1\n",
    "            temp_1 = temp_2"
   ]
  },
  {
   "cell_type": "code",
   "execution_count": 42,
   "metadata": {
    "datalore": {
     "hide_input_from_viewers": false,
     "hide_output_from_viewers": false,
     "node_id": "ewQPfnQC7cLLAhQIf4c7w2",
     "report_properties": {},
     "type": "CODE"
    }
   },
   "outputs": [
    {
     "name": "stdout",
     "output_type": "stream",
     "text": [
      "f > 0:\n",
      "[-oo, 5/54 - 565/(972*(-1/2 - sqrt(3)*I/2)*(5*sqrt(218931)/108 + 127045/5832)**(1/3)) - (-1/2 - sqrt(3)*I/2)*(5*sqrt(218931)/108 + 127045/5832)**(1/3)/3]\n",
      "[5/54 - 565/(972*(-1/2 - sqrt(3)*I/2)*(5*sqrt(218931)/108 + 127045/5832)**(1/3)) - (-1/2 - sqrt(3)*I/2)*(5*sqrt(218931)/108 + 127045/5832)**(1/3)/3, 5/54 - (-1/2 + sqrt(3)*I/2)*(5*sqrt(218931)/108 + 127045/5832)**(1/3)/3 - 565/(972*(-1/2 + sqrt(3)*I/2)*(5*sqrt(218931)/108 + 127045/5832)**(1/3))]\n",
      "[5/54 - (-1/2 + sqrt(3)*I/2)*(5*sqrt(218931)/108 + 127045/5832)**(1/3)/3 - 565/(972*(-1/2 + sqrt(3)*I/2)*(5*sqrt(218931)/108 + 127045/5832)**(1/3)), -(5*sqrt(218931)/108 + 127045/5832)**(1/3)/3 - 565/(972*(5*sqrt(218931)/108 + 127045/5832)**(1/3)) + 5/54]\n",
      "[-(5*sqrt(218931)/108 + 127045/5832)**(1/3)/3 - 565/(972*(5*sqrt(218931)/108 + 127045/5832)**(1/3)) + 5/54, oo]\n",
      "f < 0:\n"
     ]
    }
   ],
   "source": [
    "# Нахождение интервалов знакопостоянства по методу семинара (некорректная работа)\n",
    "\n",
    "roots_fun = [-oo, oo]\n",
    "roots_fun[1:1] = (solve(f, x))\n",
    "\n",
    "incr_list = []\n",
    "decr_list = []\n",
    "\n",
    "for i in range(1, len(roots_fun)):\n",
    "    num_1, num_2 = roots_fun[i - 1], roots_fun[i]\n",
    "    val = is_increasing(f, Interval.open(num_1, num_2))\n",
    "    if val:\n",
    "        decr_list.append(f\"[{num_1}, {num_2}]\")\n",
    "    else:\n",
    "        incr_list.append(f\"[{num_1}, {num_2}]\")\n",
    "\n",
    "print(\"f > 0:\", *incr_list, sep=\"\\n\")\n",
    "print(\"f < 0:\", *decr_list, sep=\"\\n\")"
   ]
  },
  {
   "cell_type": "code",
   "execution_count": 24,
   "metadata": {
    "datalore": {
     "hide_input_from_viewers": false,
     "hide_output_from_viewers": false,
     "node_id": "PIF8umeOZgsHoAsxc0ecFk",
     "report_properties": {},
     "type": "CODE"
    }
   },
   "outputs": [
    {
     "name": "stdout",
     "output_type": "stream",
     "text": [
      "Функция больше 0:\n",
      "Функция меньше 0:\n",
      "[-oo, 0.76 + 0.87*I]\n",
      "[0.76 + 0.87*I, 0.76 - 0.87*I]\n",
      "[0.76 - 0.87*I, -1.2]\n",
      "[-1.2, oo]\n"
     ]
    }
   ],
   "source": [
    "# Ищем интервал знакопостоянства функции (тоже не работает)\n",
    "root_f = [-oo, oo]\n",
    "root_f[1:1] = (solve(f, x))\n",
    "pos_list = []\n",
    "neg_list = []\n",
    "\n",
    "for i in range(1, len(root_f)):\n",
    "    if root_f[i-1] == -oo:\n",
    "        num_1 = (root_f[i]-1).evalf(2)\n",
    "        num_2 = (root_f[i]).evalf(2)\n",
    "    elif root_f[i] == oo:\n",
    "        num_1 = (root_f[i-1]).evalf(2)\n",
    "        num_2 = (root_f[i-1]+1).evalf(2)\n",
    "    else:\n",
    "        num_1 = (root_f[i-1]).evalf(2)\n",
    "        num_2 = (root_f[i]).evalf(2)\n",
    "    sred = (num_1+num_2)/2\n",
    "    ask_pos = f.subs(x,sred)\n",
    "    num_1 = (root_f[i-1]).evalf(2)\n",
    "    num_2 = (root_f[i]).evalf(2)\n",
    "    if ask(Q.positive(ask_pos)):\n",
    "        pos_list.append(f\"[{num_1}, {num_2}]\")\n",
    "    else:\n",
    "        neg_list.append(f\"[{num_1}, {num_2}]\")\n",
    "\n",
    "print('Функция больше 0:', *pos_list, sep ='\\n')\n",
    "print('Функция меньше 0:', *neg_list, sep ='\\n')"
   ]
  },
  {
   "cell_type": "code",
   "execution_count": null,
   "metadata": {},
   "outputs": [],
   "source": [
    "# 6. Ищем интервал знакопостоянства функции (правильный метод) y<0\n",
    "print('Функция меньше 0:', end=\"\")\n",
    "solveset(f<0,x,Reals).evalf(2)"
   ]
  },
  {
   "cell_type": "code",
   "execution_count": null,
   "metadata": {},
   "outputs": [],
   "source": [
    "# 6. Ищем интервал знакопостоянства функции (правильный метод) y>0\n",
    "print('Функция больше 0:', end=\"\")\n",
    "solveset(f>0,x,Reals).evalf(2)"
   ]
  }
 ],
 "metadata": {
  "datalore": {
   "base_environment": "default",
   "computation_mode": "JUPYTER",
   "package_manager": "pip",
   "packages": [],
   "version": 1
  },
  "kernelspec": {
   "display_name": "Python 3 (ipykernel)",
   "language": "python",
   "name": "python3"
  },
  "language_info": {
   "codemirror_mode": {
    "name": "ipython",
    "version": 3
   },
   "file_extension": ".py",
   "mimetype": "text/x-python",
   "name": "python",
   "nbconvert_exporter": "python",
   "pygments_lexer": "ipython3",
   "version": "3.9.13"
  }
 },
 "nbformat": 4,
 "nbformat_minor": 4
}
