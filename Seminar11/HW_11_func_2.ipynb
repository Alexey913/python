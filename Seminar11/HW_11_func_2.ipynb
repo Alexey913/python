{
 "cells": [
  {
   "cell_type": "code",
   "execution_count": 1,
   "metadata": {
    "datalore": {
     "hide_input_from_viewers": false,
     "hide_output_from_viewers": false,
     "node_id": "YoBZVYFhgOiNGk8OQ94WxM",
     "report_properties": {},
     "type": "CODE"
    }
   },
   "outputs": [],
   "source": [
    "# f(x) = 2 * x ** 3 + 2 * x ** 2 - 18 * x - 18\n",
    "# 1. Определить корни\n",
    "# 2. Найти интервалы, на которых функция возрастает\n",
    "# 3. Найти интервалы, на которых функция убывает\n",
    "# 4. Построить график\n",
    "# 5. Вычислить вершину\n",
    "# 6. Определить промежутки, на котором f > 0\n",
    "# 7. Определить промежутки, на котором f < 0"
   ]
  },
  {
   "cell_type": "code",
   "execution_count": 2,
   "metadata": {
    "datalore": {
     "hide_input_from_viewers": false,
     "hide_output_from_viewers": false,
     "node_id": "QX0GpVb4GEK1LljqzLOEpm",
     "report_properties": {},
     "type": "CODE"
    }
   },
   "outputs": [
    {
     "data": {
      "text/latex": [
       "$\\displaystyle 2 x^{3} + 2 x^{2} - 18 x - 18$"
      ],
      "text/plain": [
       "2*x**3 + 2*x**2 - 18*x - 18"
      ]
     },
     "execution_count": 2,
     "metadata": {},
     "output_type": "execute_result"
    }
   ],
   "source": [
    "# 1. Представление функции\n",
    "from sympy import *\n",
    "from sympy.plotting import plot\n",
    "\n",
    "x = Symbol (\"x\")\n",
    "f = 2 * x ** 3 + 2 * x ** 2 - 18 * x - 18\n",
    "f"
   ]
  },
  {
   "cell_type": "code",
   "execution_count": 11,
   "metadata": {
    "datalore": {
     "hide_input_from_viewers": false,
     "hide_output_from_viewers": false,
     "node_id": "j8NgUXmYHdBt8kltpYkJ8Q",
     "report_properties": {},
     "type": "CODE"
    }
   },
   "outputs": [
    {
     "name": "stdout",
     "output_type": "stream",
     "text": [
      "Нули функции равны:\n"
     ]
    },
    {
     "data": {
      "text/latex": [
       "$\\displaystyle \\left\\{-3, -1, 3\\right\\}$"
      ],
      "text/plain": [
       "{-3, -1, 3}"
      ]
     },
     "execution_count": 11,
     "metadata": {},
     "output_type": "execute_result"
    }
   ],
   "source": [
    "# 2. Находим нули функции\n",
    "print('Нули функции равны:')\n",
    "roots = solve(f, x) #решения в формате Python\n",
    "roots = solveset (f, x, S.Reals) #решения в символьном формате\n",
    "roots"
   ]
  },
  {
   "cell_type": "code",
   "execution_count": 4,
   "metadata": {
    "datalore": {
     "hide_input_from_viewers": false,
     "hide_output_from_viewers": false,
     "node_id": "A5HNMDdLkmT9e4JE90yRMX",
     "report_properties": {},
     "type": "CODE"
    }
   },
   "outputs": [
    {
     "data": {
      "text/plain": [
       "[-oo, -1/3 + 2*sqrt(7)/3, -2*sqrt(7)/3 - 1/3, oo]"
      ]
     },
     "execution_count": 4,
     "metadata": {},
     "output_type": "execute_result"
    }
   ],
   "source": [
    "# Определяем интервалы, где функция возрастает и убывает ('Экстремумы')\n",
    "extremum_list = [-oo, oo]\n",
    "extremum_list[1:1] = solve(diff(f), x)\n",
    "extremum_list"
   ]
  },
  {
   "cell_type": "code",
   "execution_count": 12,
   "metadata": {},
   "outputs": [
    {
     "name": "stdout",
     "output_type": "stream",
     "text": [
      "Убывает на интервалах:\n",
      "[-oo, 1.4]\n",
      "[-2.1, oo]\n",
      "Возрастает на интервалах:\n",
      "[1.4, -2.1]\n"
     ]
    }
   ],
   "source": [
    "# 3. Определяем интревалы возрастания и убывания (по методу семинара)\n",
    "\n",
    "f_diff = [-oo, oo]\n",
    "f_diff[1:1] = solve(diff(f), x)\n",
    "\n",
    "incr_list = []\n",
    "decr_list = []\n",
    "\n",
    "for i in range(1, len(f_diff)):\n",
    "    val = is_increasing(f, Interval.open(f_diff[i - 1], f_diff[i]))\n",
    "    if val:\n",
    "        incr_list.append(f\"[{(f_diff[i - 1]).evalf(2)}, {(f_diff[i]).evalf(2)}]\")\n",
    "    else:\n",
    "        decr_list.append(f\"[{(f_diff[i - 1]).evalf(2)}, {(f_diff[i]).evalf(2)}]\")\n",
    "\n",
    "print(f\"Убывает на интервалах:\", *decr_list, sep=\"\\n\")\n",
    "print(f\"Возрастает на интервалах:\", *incr_list, sep=\"\\n\")"
   ]
  },
  {
   "cell_type": "code",
   "execution_count": 13,
   "metadata": {
    "datalore": {
     "hide_input_from_viewers": false,
     "hide_output_from_viewers": false,
     "node_id": "kMx3n2uO1i9gBA1MX2NRSU",
     "report_properties": {},
     "type": "CODE"
    }
   },
   "outputs": [
    {
     "name": "stdout",
     "output_type": "stream",
     "text": [
      "Функция возрастает на следующих интервалах:\n",
      "(1.4,-2.1) \n",
      "\n",
      "Функция убываает на следующих интервалах:\n",
      "(-oo,1.4) (-2.1,oo) "
     ]
    }
   ],
   "source": [
    "# 3. Определяем интревалы возрастания и убывания (немного изменил код, добавил переменные для вычисления интервалов знакопостоянства)\n",
    "extremum_list = [-oo, oo]\n",
    "extremum_list[1:1] = solve(diff(f), x)\n",
    "increas_intervals =[]\n",
    "decreas_intervals = []\n",
    "check_inc=0\n",
    "check_dec=0\n",
    "for i in range (1,len(extremum_list)):\n",
    "    temp = is_increasing(f, Interval.open(extremum_list[i-1], extremum_list[i]))\n",
    "    if temp:\n",
    "        increas_intervals.append(f'{(extremum_list[i-1]).evalf(2)},{(extremum_list[i]).evalf(2)}')\n",
    "    else:\n",
    "        decreas_intervals.append(f'{(extremum_list[i-1]).evalf(2)},{(extremum_list[i]).evalf(2)}')\n",
    "if len(increas_intervals)>0:\n",
    "    print('Функция возрастает на следующих интервалах:')\n",
    "    for i in range (len(increas_intervals)):\n",
    "        print (f'({increas_intervals[i]})', end = \" \")\n",
    "        check_inc+=1\n",
    "    print(f'\\n')\n",
    "else:\n",
    "    print('Интервалы возрастания отсутствуют')\n",
    "if len(decreas_intervals)>0:\n",
    "    print('Функция убываает на следующих интервалах:')\n",
    "    for i in range (len(decreas_intervals)):\n",
    "        print (f'({decreas_intervals[i]})', end = \" \")\n",
    "        check_dec+=1\n",
    "else:\n",
    "    print('Интервалы убывания отсутствуют')"
   ]
  },
  {
   "cell_type": "code",
   "execution_count": 6,
   "metadata": {
    "datalore": {
     "hide_input_from_viewers": false,
     "hide_output_from_viewers": false,
     "node_id": "lySUJIq9MPvWmZwiu2iEpo",
     "report_properties": {},
     "type": "CODE"
    }
   },
   "outputs": [
    {
     "data": {
      "image/png": "[encoded data removed]",
      "text/plain": [
       "<Figure size 640x480 with 1 Axes>"
      ]
     },
     "metadata": {},
     "output_type": "display_data"
    },
    {
     "data": {
      "text/plain": [
       "<sympy.plotting.plot.Plot at 0x21e58b6ebb0>"
      ]
     },
     "execution_count": 6,
     "metadata": {},
     "output_type": "execute_result"
    }
   ],
   "source": [
    "# 4. Строим график\n",
    "plot((f, (x,-5, 5)), legend = True)"
   ]
  },
  {
   "cell_type": "code",
   "execution_count": 16,
   "metadata": {
    "datalore": {
     "hide_input_from_viewers": false,
     "hide_output_from_viewers": false,
     "node_id": "ORFru5zZHV1q4xCgr9oMfy",
     "report_properties": {},
     "type": "CODE"
    }
   },
   "outputs": [
    {
     "name": "stdout",
     "output_type": "stream",
     "text": [
      "Минимум 1 = -34.\n",
      "Максимум 1 = 10.\n"
     ]
    }
   ],
   "source": [
    "# 5. Ищем экстремумы по методу семинара (сходится с Матвеем)\n",
    "extr = solve(diff(f), x)\n",
    "count_min = 1\n",
    "count_max = 1\n",
    "for i in extr:\n",
    "    temp = f.subs(x, i).evalf(2)\n",
    "    if temp < 0:\n",
    "        print (f\"Минимум {count_min} =\", temp)\n",
    "        count_min+=1\n",
    "    elif temp >0:\n",
    "        print (f\"Максимум {count_max} =\", temp)\n",
    "        count_max+=1         "
   ]
  },
  {
   "cell_type": "code",
   "execution_count": 14,
   "metadata": {
    "datalore": {
     "hide_input_from_viewers": true,
     "hide_output_from_viewers": true,
     "node_id": "IPTxZMj4XKE17ODyncuUhC",
     "type": "CODE"
    }
   },
   "outputs": [
    {
     "name": "stdout",
     "output_type": "stream",
     "text": [
      "Минимум 1: x = 1.4, y = -34\n",
      "Максимум 1: x = -2.1, y = 10\n"
     ]
    }
   ],
   "source": [
    "# 5. Ищем экстремумы (немного изменил код семинара)\n",
    "extr = solve(diff(f), x)\n",
    "count_min = 1\n",
    "count_max = 1\n",
    "if len(extr) == 0 or (check_inc==0 or check_dec==0):\n",
    "    print (f\"Максимумы и минимумы отсутствуют!\")\n",
    "elif len(extr) == 1:\n",
    "    temp_1 = f.subs(x, extr[0]+4)\n",
    "    temp_2 = f.subs(x, extr[0])\n",
    "    if temp_2 < temp_1:\n",
    "        print (f\"Минимум {count_min}: x = {extr[0].evalf(2)}, y = {temp_2.evalf(2)}\")     \n",
    "    else:\n",
    "        print (f\"Максимум {count_min}: x = {extr[0].evalf(2)}, y = {temp_2.evalf(2)}\")\n",
    "else:\n",
    "    temp_1 = f.subs(x, extr[1])\n",
    "    for i in extr:\n",
    "        temp_2 = f.subs(x, i)\n",
    "        if temp_2 < temp_1:\n",
    "            print (f\"Минимум {count_min}: x = {i.evalf(2)}, y = {temp_2.evalf(2)}\")\n",
    "            count_min+=1\n",
    "            temp_1 = temp_2\n",
    "        elif temp_2 > temp_1:\n",
    "            print (f\"Максимум {count_max}: x = {i.evalf(2)}, y = {temp_2.evalf(2)}\")\n",
    "            count_max+=1\n",
    "            temp_1 = temp_2"
   ]
  },
  {
   "cell_type": "code",
   "execution_count": 19,
   "metadata": {
    "datalore": {
     "hide_input_from_viewers": false,
     "hide_output_from_viewers": false,
     "node_id": "vvnd6iUg2oQuFjYI1R3cjQ",
     "report_properties": {},
     "type": "CODE"
    }
   },
   "outputs": [
    {
     "name": "stdout",
     "output_type": "stream",
     "text": [
      "Функция больше 0 на интервалах:\n",
      "-oo,-3\n",
      "3,oo\n",
      "Функция меньше 0 на интервалах:\n",
      "-3,-1\n",
      "-1,3\n"
     ]
    }
   ],
   "source": [
    "# Ищем интервал знакопостоянства функции, по методу семинара (некорректная работа)\n",
    "interval_list = [-oo, oo]\n",
    "interval_list[1:1] = solve(f, x)\n",
    "increas =[]\n",
    "decreas = []\n",
    "for i in range (1,len(interval_list)):\n",
    "    temp_1, temp_2 = interval_list[i-1], interval_list[i]\n",
    "    temp = is_increasing(f, Interval.open(temp_1, temp_2))\n",
    "    if temp:\n",
    "        increas.append(f'{temp_1},{temp_2}')\n",
    "    else:\n",
    "        decreas.append(f'{temp_1},{temp_2}')\n",
    "print('Функция больше 0 на интервалах:', *increas, sep ='\\n')\n",
    "print('Функция меньше 0 на интервалах:', *decreas, sep ='\\n')\n"
   ]
  },
  {
   "cell_type": "code",
   "execution_count": 10,
   "metadata": {
    "datalore": {
     "hide_input_from_viewers": false,
     "hide_output_from_viewers": false,
     "node_id": "2c2thLNK63OPJR7NHLoneX",
     "report_properties": {},
     "type": "CODE"
    }
   },
   "outputs": [
    {
     "name": "stdout",
     "output_type": "stream",
     "text": [
      "[-oo, -3, -1, 3, oo]\n",
      "Функция больше 0 на интервалах:\n",
      "[-3, -1]\n",
      "[3, oo]\n",
      "Функция меньше 0 на интервалах:\n",
      "[-oo, -3]\n",
      "[-1, 3]\n"
     ]
    }
   ],
   "source": [
    "# 6. Ищем интервал знакопостоянства функции, мой метод (здесь работает)\n",
    "root_f = [-oo, oo]\n",
    "root_f[1:1] = (solve(f, x))\n",
    "print (root_f)\n",
    "pos_list = []\n",
    "neg_list = []\n",
    "\n",
    "for i in range(1, len(root_f)):\n",
    "    if root_f[i-1] == -oo:\n",
    "        num_1 = root_f[i]-1\n",
    "        num_2 = root_f[i]\n",
    "    elif root_f[i] == oo:\n",
    "        num_1 = root_f[i-1]\n",
    "        num_2 = root_f[i-1]+1\n",
    "    else:\n",
    "        num_1 = root_f[i-1]\n",
    "        num_2 = root_f[i]\n",
    "    sred = (num_1+num_2)/2\n",
    "    ask_pos = f.subs(x,sred)\n",
    "    num_1 = root_f[i-1]\n",
    "    num_2 = root_f[i]\n",
    "    if ask(Q.positive(ask_pos)):\n",
    "        pos_list.append(f\"[{num_1}, {num_2}]\")\n",
    "    else:\n",
    "        neg_list.append(f\"[{num_1}, {num_2}]\")\n",
    "\n",
    "print('Функция больше 0 на интервалах:', *pos_list, sep ='\\n')\n",
    "print('Функция меньше 0 на интервалах:', *neg_list, sep ='\\n')"
   ]
  },
  {
   "cell_type": "code",
   "execution_count": 20,
   "metadata": {},
   "outputs": [
    {
     "name": "stdout",
     "output_type": "stream",
     "text": [
      "Функция меньше 0:"
     ]
    },
    {
     "data": {
      "text/latex": [
       "$\\displaystyle \\left(-\\infty, -3.0\\right) \\cup \\left(-1.0, 3.0\\right)$"
      ],
      "text/plain": [
       "Union(Interval.open(-oo, -3.0), Interval.open(-1.0, 3.0))"
      ]
     },
     "execution_count": 20,
     "metadata": {},
     "output_type": "execute_result"
    }
   ],
   "source": [
    "# 6. Ищем интервал знакопостоянства функции (правильный метод) y<0\n",
    "print('Функция меньше 0:', end=\"\")\n",
    "solveset(f<0,x,Reals).evalf(2)"
   ]
  },
  {
   "cell_type": "code",
   "execution_count": 21,
   "metadata": {},
   "outputs": [
    {
     "name": "stdout",
     "output_type": "stream",
     "text": [
      "Функция больше 0:"
     ]
    },
    {
     "data": {
      "text/latex": [
       "$\\displaystyle \\left(-3.0, -1.0\\right) \\cup \\left(3.0, \\infty\\right)$"
      ],
      "text/plain": [
       "Union(Interval.open(-3.0, -1.0), Interval.open(3.0, oo))"
      ]
     },
     "execution_count": 21,
     "metadata": {},
     "output_type": "execute_result"
    }
   ],
   "source": [
    "# 6. Ищем интервал знакопостоянства функции (правильный метод) y>0\n",
    "print('Функция больше 0:', end=\"\")\n",
    "solveset(f>0,x,Reals).evalf(2)"
   ]
  }
 ],
 "metadata": {
  "datalore": {
   "base_environment": "default",
   "computation_mode": "JUPYTER",
   "package_manager": "pip",
   "packages": [],
   "version": 1
  },
  "kernelspec": {
   "display_name": "Python 3 (ipykernel)",
   "language": "python",
   "name": "python3"
  },
  "language_info": {
   "codemirror_mode": {
    "name": "ipython",
    "version": 3
   },
   "file_extension": ".py",
   "mimetype": "text/x-python",
   "name": "python",
   "nbconvert_exporter": "python",
   "pygments_lexer": "ipython3",
   "version": "3.9.13"
  }
 },
 "nbformat": 4,
 "nbformat_minor": 4
}
